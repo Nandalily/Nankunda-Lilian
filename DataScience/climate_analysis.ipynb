{
 "cells": [
  {
   "cell_type": "code",
   "execution_count": 1,
   "id": "219ab6ca",
   "metadata": {},
   "outputs": [
    {
     "name": "stdout",
     "output_type": "stream",
     "text": [
      "  Sensor_ID        Date Soil_Moisture(%) Soil_pH Temperature(C) Humidity(%)  \\\n",
      "0  SEN-1000  2025-01-01            36.22    6.98           21.3        50.4   \n",
      "1  SEN-1001  2025-01-02            76.55    5.03           23.5        34.3   \n",
      "2  SEN-1002  2025-01-03            61.24    6.52           21.9        54.6   \n",
      "3  SEN-1003  2025-01-04            51.91    6.62           24.0        48.7   \n",
      "4  SEN-1004  2025-01-05            20.92    5.98           19.2        70.6   \n",
      "\n",
      "  Crop_Type Fertilizer_Recommended(kg/ha) Irrigation_Recommended(mm)  \\\n",
      "0  Tomatoes                          67.6                       26.6   \n",
      "1     Wheat                         130.4                        8.3   \n",
      "2  Tomatoes                          36.0                       29.4   \n",
      "3     Maize                          85.8                       19.6   \n",
      "4     Wheat                          75.6                       29.9   \n",
      "\n",
      "  Drone_Image_ID  \n",
      "0       IMG-2000  \n",
      "1       IMG-2001  \n",
      "2       IMG-2002  \n",
      "3       IMG-2003  \n",
      "4       IMG-2004  \n",
      "<class 'pandas.core.frame.DataFrame'>\n",
      "RangeIndex: 913 entries, 0 to 912\n",
      "Data columns (total 10 columns):\n",
      " #   Column                         Non-Null Count  Dtype \n",
      "---  ------                         --------------  ----- \n",
      " 0   Sensor_ID                      913 non-null    object\n",
      " 1   Date                           909 non-null    object\n",
      " 2   Soil_Moisture(%)               913 non-null    object\n",
      " 3   Soil_pH                        913 non-null    object\n",
      " 4   Temperature(C)                 913 non-null    object\n",
      " 5   Humidity(%)                    913 non-null    object\n",
      " 6   Crop_Type                      909 non-null    object\n",
      " 7   Fertilizer_Recommended(kg/ha)  913 non-null    object\n",
      " 8   Irrigation_Recommended(mm)     913 non-null    object\n",
      " 9   Drone_Image_ID                 913 non-null    object\n",
      "dtypes: object(10)\n",
      "memory usage: 71.5+ KB\n",
      "None\n",
      "       Sensor_ID        Date Soil_Moisture(%) Soil_pH Temperature(C)  \\\n",
      "count        913         909              913     913            913   \n",
      "unique       800         798              750     313            170   \n",
      "top     SEN-1779  2025-04-22            error    7.54           19.1   \n",
      "freq           2           2                5      11             13   \n",
      "\n",
      "       Humidity(%) Crop_Type Fertilizer_Recommended(kg/ha)  \\\n",
      "count          913       909                           913   \n",
      "unique         448         5                           595   \n",
      "top           56.0     Wheat                          66.9   \n",
      "freq             8       203                             8   \n",
      "\n",
      "       Irrigation_Recommended(mm) Drone_Image_ID  \n",
      "count                         913            913  \n",
      "unique                        243            800  \n",
      "top                           8.0       IMG-2779  \n",
      "freq                           11              2  \n"
     ]
    }
   ],
   "source": [
    "import pandas as pd\n",
    "import numpy as np\n",
    "import multipledispatch as md\n",
    "import matplotlib.pyplot as plt\n",
    "import seaborn as sns\n",
    "\n",
    "df = pd.read_csv('climate_action_data.csv')\n",
    "\n",
    "print(df.head())\n",
    "print(df.info())\n",
    "print(df.describe())"
   ]
  },
  {
   "cell_type": "code",
   "execution_count": 2,
   "id": "8d6b63c0",
   "metadata": {},
   "outputs": [
    {
     "data": {
      "text/plain": [
       "(913, 10)"
      ]
     },
     "execution_count": 2,
     "metadata": {},
     "output_type": "execute_result"
    }
   ],
   "source": [
    "df.shape"
   ]
  },
  {
   "cell_type": "code",
   "execution_count": 4,
   "id": "2f37d72b",
   "metadata": {},
   "outputs": [
    {
     "data": {
      "application/vnd.microsoft.datawrangler.viewer.v0+json": {
       "columns": [
        {
         "name": "index",
         "rawType": "int64",
         "type": "integer"
        },
        {
         "name": "Sensor_ID",
         "rawType": "object",
         "type": "string"
        },
        {
         "name": "Date",
         "rawType": "object",
         "type": "string"
        },
        {
         "name": "Soil_Moisture(%)",
         "rawType": "object",
         "type": "string"
        },
        {
         "name": "Soil_pH",
         "rawType": "object",
         "type": "string"
        },
        {
         "name": "Temperature(C)",
         "rawType": "object",
         "type": "string"
        },
        {
         "name": "Humidity(%)",
         "rawType": "object",
         "type": "string"
        },
        {
         "name": "Crop_Type",
         "rawType": "object",
         "type": "string"
        },
        {
         "name": "Fertilizer_Recommended(kg/ha)",
         "rawType": "object",
         "type": "string"
        },
        {
         "name": "Irrigation_Recommended(mm)",
         "rawType": "object",
         "type": "string"
        },
        {
         "name": "Drone_Image_ID",
         "rawType": "object",
         "type": "string"
        }
       ],
       "ref": "eb8c9de6-c07a-47f5-bc32-d5b6edd951f6",
       "rows": [
        [
         "0",
         "SEN-1000",
         "2025-01-01",
         "36.22",
         "6.98",
         "21.3",
         "50.4",
         "Tomatoes",
         "67.6",
         "26.6",
         "IMG-2000"
        ],
        [
         "1",
         "SEN-1001",
         "2025-01-02",
         "76.55",
         "5.03",
         "23.5",
         "34.3",
         "Wheat",
         "130.4",
         "8.3",
         "IMG-2001"
        ],
        [
         "2",
         "SEN-1002",
         "2025-01-03",
         "61.24",
         "6.52",
         "21.9",
         "54.6",
         "Tomatoes",
         "36.0",
         "29.4",
         "IMG-2002"
        ],
        [
         "3",
         "SEN-1003",
         "2025-01-04",
         "51.91",
         "6.62",
         "24.0",
         "48.7",
         "Maize",
         "85.8",
         "19.6",
         "IMG-2003"
        ],
        [
         "4",
         "SEN-1004",
         "2025-01-05",
         "20.92",
         "5.98",
         "19.2",
         "70.6",
         "Wheat",
         "75.6",
         "29.9",
         "IMG-2004"
        ]
       ],
       "shape": {
        "columns": 10,
        "rows": 5
       }
      },
      "text/html": [
       "<div>\n",
       "<style scoped>\n",
       "    .dataframe tbody tr th:only-of-type {\n",
       "        vertical-align: middle;\n",
       "    }\n",
       "\n",
       "    .dataframe tbody tr th {\n",
       "        vertical-align: top;\n",
       "    }\n",
       "\n",
       "    .dataframe thead th {\n",
       "        text-align: right;\n",
       "    }\n",
       "</style>\n",
       "<table border=\"1\" class=\"dataframe\">\n",
       "  <thead>\n",
       "    <tr style=\"text-align: right;\">\n",
       "      <th></th>\n",
       "      <th>Sensor_ID</th>\n",
       "      <th>Date</th>\n",
       "      <th>Soil_Moisture(%)</th>\n",
       "      <th>Soil_pH</th>\n",
       "      <th>Temperature(C)</th>\n",
       "      <th>Humidity(%)</th>\n",
       "      <th>Crop_Type</th>\n",
       "      <th>Fertilizer_Recommended(kg/ha)</th>\n",
       "      <th>Irrigation_Recommended(mm)</th>\n",
       "      <th>Drone_Image_ID</th>\n",
       "    </tr>\n",
       "  </thead>\n",
       "  <tbody>\n",
       "    <tr>\n",
       "      <th>0</th>\n",
       "      <td>SEN-1000</td>\n",
       "      <td>2025-01-01</td>\n",
       "      <td>36.22</td>\n",
       "      <td>6.98</td>\n",
       "      <td>21.3</td>\n",
       "      <td>50.4</td>\n",
       "      <td>Tomatoes</td>\n",
       "      <td>67.6</td>\n",
       "      <td>26.6</td>\n",
       "      <td>IMG-2000</td>\n",
       "    </tr>\n",
       "    <tr>\n",
       "      <th>1</th>\n",
       "      <td>SEN-1001</td>\n",
       "      <td>2025-01-02</td>\n",
       "      <td>76.55</td>\n",
       "      <td>5.03</td>\n",
       "      <td>23.5</td>\n",
       "      <td>34.3</td>\n",
       "      <td>Wheat</td>\n",
       "      <td>130.4</td>\n",
       "      <td>8.3</td>\n",
       "      <td>IMG-2001</td>\n",
       "    </tr>\n",
       "    <tr>\n",
       "      <th>2</th>\n",
       "      <td>SEN-1002</td>\n",
       "      <td>2025-01-03</td>\n",
       "      <td>61.24</td>\n",
       "      <td>6.52</td>\n",
       "      <td>21.9</td>\n",
       "      <td>54.6</td>\n",
       "      <td>Tomatoes</td>\n",
       "      <td>36.0</td>\n",
       "      <td>29.4</td>\n",
       "      <td>IMG-2002</td>\n",
       "    </tr>\n",
       "    <tr>\n",
       "      <th>3</th>\n",
       "      <td>SEN-1003</td>\n",
       "      <td>2025-01-04</td>\n",
       "      <td>51.91</td>\n",
       "      <td>6.62</td>\n",
       "      <td>24.0</td>\n",
       "      <td>48.7</td>\n",
       "      <td>Maize</td>\n",
       "      <td>85.8</td>\n",
       "      <td>19.6</td>\n",
       "      <td>IMG-2003</td>\n",
       "    </tr>\n",
       "    <tr>\n",
       "      <th>4</th>\n",
       "      <td>SEN-1004</td>\n",
       "      <td>2025-01-05</td>\n",
       "      <td>20.92</td>\n",
       "      <td>5.98</td>\n",
       "      <td>19.2</td>\n",
       "      <td>70.6</td>\n",
       "      <td>Wheat</td>\n",
       "      <td>75.6</td>\n",
       "      <td>29.9</td>\n",
       "      <td>IMG-2004</td>\n",
       "    </tr>\n",
       "  </tbody>\n",
       "</table>\n",
       "</div>"
      ],
      "text/plain": [
       "  Sensor_ID        Date Soil_Moisture(%) Soil_pH Temperature(C) Humidity(%)  \\\n",
       "0  SEN-1000  2025-01-01            36.22    6.98           21.3        50.4   \n",
       "1  SEN-1001  2025-01-02            76.55    5.03           23.5        34.3   \n",
       "2  SEN-1002  2025-01-03            61.24    6.52           21.9        54.6   \n",
       "3  SEN-1003  2025-01-04            51.91    6.62           24.0        48.7   \n",
       "4  SEN-1004  2025-01-05            20.92    5.98           19.2        70.6   \n",
       "\n",
       "  Crop_Type Fertilizer_Recommended(kg/ha) Irrigation_Recommended(mm)  \\\n",
       "0  Tomatoes                          67.6                       26.6   \n",
       "1     Wheat                         130.4                        8.3   \n",
       "2  Tomatoes                          36.0                       29.4   \n",
       "3     Maize                          85.8                       19.6   \n",
       "4     Wheat                          75.6                       29.9   \n",
       "\n",
       "  Drone_Image_ID  \n",
       "0       IMG-2000  \n",
       "1       IMG-2001  \n",
       "2       IMG-2002  \n",
       "3       IMG-2003  \n",
       "4       IMG-2004  "
      ]
     },
     "execution_count": 4,
     "metadata": {},
     "output_type": "execute_result"
    }
   ],
   "source": [
    "df.head()"
   ]
  },
  {
   "cell_type": "code",
   "execution_count": 7,
   "metadata": {},
   "outputs": [
    {
     "name": "stdout",
     "output_type": "stream",
     "text": [
      "Initail missing values:\n",
      " Sensor_ID                        0\n",
      "Date                             4\n",
      "Soil_Moisture(%)                 0\n",
      "Soil_pH                          0\n",
      "Temperature(C)                   0\n",
      "Humidity(%)                      0\n",
      "Crop_Type                        4\n",
      "Fertilizer_Recommended(kg/ha)    0\n",
      "Irrigation_Recommended(mm)       0\n",
      "Drone_Image_ID                   0\n",
      "dtype: int64\n"
     ]
    }
   ],
   "source": [
    "print(\"Initail missing values:\\n\",df.isnull().sum())"
   ]
  },
  {
   "cell_type": "code",
   "execution_count": 8,
   "id": "6976e45b",
   "metadata": {},
   "outputs": [],
   "source": [
    "df.replace('error', np.nan, inplace=True)"
   ]
  },
  {
   "cell_type": "code",
   "execution_count": null,
   "id": "a51e80e1",
   "metadata": {},
   "outputs": [],
   "source": [
    "numeric_cols = [\n",
    "    'Soil_Moisture(%)', 'Soil_pH', 'Temperature(C)', \n",
    "    'Humidity(%)', 'Fertilizer_Recommended(kg/ha)', 'Irrigation_Recommended(mm)'\n",
    "]\n",
    "# converting numeric columns\n",
    "df[numeric_cols] = df[numeric_cols].apply(pd.to_numeric, errors='coerce')"
   ]
  },
  {
   "cell_type": "code",
   "execution_count": 11,
   "id": "f2004002",
   "metadata": {},
   "outputs": [],
   "source": [
    "# handling with median\n",
    "for col in numeric_cols:\n",
    "    df[col] = df.groupby('Crop_Type')[col].transform(\n",
    "        lambda x: x.fillna(x.median())\n",
    "    )"
   ]
  },
  {
   "cell_type": "code",
   "execution_count": 12,
   "id": "e0db7bf5",
   "metadata": {},
   "outputs": [],
   "source": [
    "for col in numeric_cols:\n",
    "    if col in df.columns:\n",
    "        df[col] = pd.to_numeric(df[col], errors='coerce')  # Convert to numeric, coercing errors\n",
    "        # Fill missing values with the median   \n",
    "        df[col] = df[col].fillna(df[col].median())  # Fill missing values with the median"
   ]
  },
  {
   "cell_type": "code",
   "execution_count": 13,
   "id": "1bb0931c",
   "metadata": {},
   "outputs": [],
   "source": [
    "# for categorical columns,  filling missing values with the mode\n",
    "categorical_cols = ['Signal']\n",
    "for col in categorical_cols:\n",
    "    if col in df.columns:\n",
    "        df[col] = df[col].fillna(df[col].mode()[0])  # Fill missing values with the mode"
   ]
  },
  {
   "cell_type": "code",
   "execution_count": 14,
   "id": "3ff67788",
   "metadata": {},
   "outputs": [
    {
     "name": "stdout",
     "output_type": "stream",
     "text": [
      "Missing values after handling:\n",
      "Sensor_ID                        0\n",
      "Date                             4\n",
      "Soil_Moisture(%)                 0\n",
      "Soil_pH                          0\n",
      "Temperature(C)                   0\n",
      "Humidity(%)                      0\n",
      "Crop_Type                        4\n",
      "Fertilizer_Recommended(kg/ha)    0\n",
      "Irrigation_Recommended(mm)       0\n",
      "Drone_Image_ID                   0\n",
      "dtype: int64\n"
     ]
    }
   ],
   "source": [
    "print(\"Missing values after handling:\")\n",
    "print(df.isnull().sum())  # Check for missing values after handling        \n",
    "        "
   ]
  },
  {
   "cell_type": "code",
   "execution_count": null,
   "id": "ae5b20ae",
   "metadata": {},
   "outputs": [],
   "source": [
    "df['Date'] = pd.to_datetime(df['Date'], errors='coerce')  # Convert to datetime"
   ]
  },
  {
   "cell_type": "code",
   "execution_count": null,
   "id": "1bb29dfe",
   "metadata": {},
   "outputs": [
    {
     "name": "stdout",
     "output_type": "stream",
     "text": [
      "    Sensor_ID       Date  Soil_Moisture(%)  Soil_pH  Temperature(C)  \\\n",
      "800  SEN-1008 2025-01-09             52.08     6.08            22.0   \n",
      "802  SEN-1175 2025-06-25             22.21     5.42            23.4   \n",
      "803  SEN-1735 2027-01-06             71.40     4.93            24.5   \n",
      "804  SEN-1242 2025-08-31             74.04     5.62            25.5   \n",
      "805  SEN-1764 2027-02-04             12.35     7.38            27.8   \n",
      "..        ...        ...               ...      ...             ...   \n",
      "908  SEN-1090 2025-04-01             18.37     7.03            21.0   \n",
      "909  SEN-1201 2025-07-21             15.89     6.40            30.5   \n",
      "910  SEN-1309 2025-11-06             28.96     5.04            20.5   \n",
      "911  SEN-1339 2025-12-06             16.85     6.57            19.3   \n",
      "912  SEN-1050 2025-02-20             77.87     4.73            18.6   \n",
      "\n",
      "     Humidity(%) Crop_Type  Fertilizer_Recommended(kg/ha)  \\\n",
      "800         89.3  Tomatoes                           67.8   \n",
      "802         68.4     Beans                           86.5   \n",
      "803         67.0     Wheat                           95.5   \n",
      "804         76.9     Wheat                           66.9   \n",
      "805         33.4   Lettuce                          107.6   \n",
      "..           ...       ...                            ...   \n",
      "908         47.1     Maize                           94.2   \n",
      "909         33.3  Tomatoes                          108.3   \n",
      "910         47.6  Tomatoes                           81.1   \n",
      "911         34.5     Beans                           48.5   \n",
      "912         46.2     Beans                          136.5   \n",
      "\n",
      "     Irrigation_Recommended(mm) Drone_Image_ID  \n",
      "800                        11.4       IMG-2008  \n",
      "802                        18.3       IMG-2175  \n",
      "803                         6.2       IMG-2735  \n",
      "804                        12.9       IMG-2242  \n",
      "805                        10.5       IMG-2764  \n",
      "..                          ...            ...  \n",
      "908                         8.0       IMG-2090  \n",
      "909                        14.5       IMG-2201  \n",
      "910                        12.7       IMG-2309  \n",
      "911                        12.7       IMG-2339  \n",
      "912                        23.1       IMG-2050  \n",
      "\n",
      "[111 rows x 10 columns]\n",
      "111\n"
     ]
    }
   ],
   "source": [
    "# checking for duplicates rows\n",
    "duplicates = df[df.duplicated()]\n",
    "print(duplicates)\n"
   ]
  },
  {
   "cell_type": "code",
   "execution_count": 24,
   "id": "2df6f1cd",
   "metadata": {},
   "outputs": [
    {
     "name": "stdout",
     "output_type": "stream",
     "text": [
      "Number of duplicates: 111\n",
      "Duplicate dates: 3\n"
     ]
    }
   ],
   "source": [
    "# Check for duplicate rows\n",
    "print(f\"Number of duplicates: {df.duplicated().sum()}\")\n",
    "\n",
    "# Remove duplicates\n",
    "df = df.drop_duplicates()\n",
    "\n",
    "# Check for duplicate dates (should be unique)\n",
    "print(f\"Duplicate dates: {df['Date'].duplicated().sum()}\")\n",
    "df = df.drop_duplicates(subset=['Date'], keep='first')"
   ]
  },
  {
   "cell_type": "code",
   "execution_count": 26,
   "id": "77e39646",
   "metadata": {},
   "outputs": [
    {
     "name": "stdout",
     "output_type": "stream",
     "text": [
      "Number of duplicates after dropping: 0\n"
     ]
    }
   ],
   "source": [
    "print(f\"Number of duplicates after dropping: {df.duplicated().sum()}\")"
   ]
  },
  {
   "cell_type": "code",
   "execution_count": 25,
   "id": "b3fba92d",
   "metadata": {},
   "outputs": [
    {
     "name": "stdout",
     "output_type": "stream",
     "text": [
      "<class 'pandas.core.frame.DataFrame'>\n",
      "Index: 799 entries, 0 to 863\n",
      "Data columns (total 10 columns):\n",
      " #   Column                         Non-Null Count  Dtype         \n",
      "---  ------                         --------------  -----         \n",
      " 0   Sensor_ID                      799 non-null    object        \n",
      " 1   Date                           798 non-null    datetime64[ns]\n",
      " 2   Soil_Moisture(%)               799 non-null    float64       \n",
      " 3   Soil_pH                        799 non-null    float64       \n",
      " 4   Temperature(C)                 799 non-null    float64       \n",
      " 5   Humidity(%)                    799 non-null    float64       \n",
      " 6   Crop_Type                      795 non-null    object        \n",
      " 7   Fertilizer_Recommended(kg/ha)  799 non-null    float64       \n",
      " 8   Irrigation_Recommended(mm)     799 non-null    float64       \n",
      " 9   Drone_Image_ID                 799 non-null    object        \n",
      "dtypes: datetime64[ns](1), float64(6), object(3)\n",
      "memory usage: 68.7+ KB\n",
      "None\n",
      "Missing values after all cleaning:\n",
      "Sensor_ID                        0\n",
      "Date                             1\n",
      "Soil_Moisture(%)                 0\n",
      "Soil_pH                          0\n",
      "Temperature(C)                   0\n",
      "Humidity(%)                      0\n",
      "Crop_Type                        4\n",
      "Fertilizer_Recommended(kg/ha)    0\n",
      "Irrigation_Recommended(mm)       0\n",
      "Drone_Image_ID                   0\n",
      "dtype: int64\n"
     ]
    }
   ],
   "source": [
    "print(df.info())\n",
    "\n",
    "print(\"Missing values after all cleaning:\")\n",
    "print(df.isnull().sum())"
   ]
  },
  {
   "cell_type": "code",
   "execution_count": 27,
   "id": "e0c4fed4",
   "metadata": {},
   "outputs": [
    {
     "data": {
      "text/plain": [
       "(799, 10)"
      ]
     },
     "execution_count": 27,
     "metadata": {},
     "output_type": "execute_result"
    }
   ],
   "source": [
    "df.shape"
   ]
  },
  {
   "cell_type": "code",
   "execution_count": 28,
   "id": "01078465",
   "metadata": {},
   "outputs": [],
   "source": [
    "# Replace 'error' entries with NaN\n",
    "df = df.replace('error', np.nan)"
   ]
  },
  {
   "cell_type": "code",
   "execution_count": 29,
   "id": "c9b87026",
   "metadata": {},
   "outputs": [
    {
     "name": "stdout",
     "output_type": "stream",
     "text": [
      "\n",
      "Data types after conversion:\n",
      "Sensor_ID                                object\n",
      "Date                             datetime64[ns]\n",
      "Soil_Moisture(%)                        float64\n",
      "Soil_pH                                 float64\n",
      "Temperature(C)                          float64\n",
      "Humidity(%)                             float64\n",
      "Crop_Type                                object\n",
      "Fertilizer_Recommended(kg/ha)           float64\n",
      "Irrigation_Recommended(mm)              float64\n",
      "Drone_Image_ID                           object\n",
      "dtype: object\n"
     ]
    }
   ],
   "source": [
    "# After type conversion\n",
    "print(\"\\nData types after conversion:\")\n",
    "print(df.dtypes)"
   ]
  },
  {
   "cell_type": "code",
   "execution_count": 30,
   "id": "03a7c06b",
   "metadata": {},
   "outputs": [
    {
     "name": "stdout",
     "output_type": "stream",
     "text": [
      "\n",
      "Missing values after cleaning:\n",
      "Sensor_ID                        0\n",
      "Date                             1\n",
      "Soil_Moisture(%)                 0\n",
      "Soil_pH                          0\n",
      "Temperature(C)                   0\n",
      "Humidity(%)                      0\n",
      "Crop_Type                        0\n",
      "Fertilizer_Recommended(kg/ha)    0\n",
      "Irrigation_Recommended(mm)       0\n",
      "Drone_Image_ID                   0\n",
      "dtype: int64\n",
      "\n",
      "Final cleaned data sample:\n",
      "    Sensor_ID       Date  Soil_Moisture(%)  Soil_pH  Temperature(C)  \\\n",
      "20   SEN-1020 2025-01-21             52.83     7.31            25.9   \n",
      "668  SEN-1668 2026-10-31             23.06     7.55            22.0   \n",
      "749  SEN-1749 2027-01-20             53.70     6.72            18.2   \n",
      "142  SEN-1142 2025-05-23             44.81     6.78            31.1   \n",
      "268  SEN-1268 2025-09-26             35.16     5.74            20.2   \n",
      "\n",
      "     Humidity(%) Crop_Type  Fertilizer_Recommended(kg/ha)  \\\n",
      "20          39.6   Lettuce                           90.1   \n",
      "668         45.1     Maize                           61.9   \n",
      "749         57.3     Beans                           37.6   \n",
      "142         80.8   Lettuce                           95.5   \n",
      "268         74.3  Tomatoes                          136.9   \n",
      "\n",
      "     Irrigation_Recommended(mm) Drone_Image_ID  \n",
      "20                         26.7       IMG-2020  \n",
      "668                        10.3       IMG-2668  \n",
      "749                        17.4       IMG-2749  \n",
      "142                        16.1       IMG-2142  \n",
      "268                        16.1       IMG-2268  \n"
     ]
    }
   ],
   "source": [
    "#  Convert numeric columns (safer approach)\n",
    "numeric_cols = ['Soil_Moisture(%)', 'Soil_pH', 'Temperature(C)', 'Humidity(%)', 'Fertilizer_Recommended(kg/ha)']\n",
    "df[numeric_cols] = df[numeric_cols].apply(pd.to_numeric, errors='coerce')\n",
    "\n",
    "# Handle missing values (updated methods)\n",
    "# Option 1: Using direct assignment (recommended)\n",
    "df['Soil_Moisture(%)'] = df['Soil_Moisture(%)'].ffill()\n",
    "df['Soil_pH'] = df['Soil_pH'].ffill()\n",
    "\n",
    "# Option 2: Using fillna with dictionary (alternative)\n",
    "df = df.fillna({\n",
    "    'Temperature(C)': df['Temperature(C)'].mean(),\n",
    "    'Humidity(%)': df['Humidity(%)'].mean(),\n",
    "    'Crop_Type': df['Crop_Type'].mode()[0] if 'Crop_Type' in df else None\n",
    "})\n",
    "\n",
    "# Alternative for crop type if needed\n",
    "if 'Crop_Type' in df.columns:\n",
    "    df.loc[:, 'Crop_Type'] = df['Crop_Type'].fillna(df['Crop_Type'].mode()[0])\n",
    "    \n",
    "    # After handling missing values\n",
    "print(\"\\nMissing values after cleaning:\")\n",
    "print(df.isna().sum())\n",
    "\n",
    "# Final cleaned data preview\n",
    "print(\"\\nFinal cleaned data sample:\")\n",
    "print(df.sample(5))"
   ]
  },
  {
   "cell_type": "code",
   "execution_count": 31,
   "id": "71f0e715",
   "metadata": {},
   "outputs": [
    {
     "data": {
      "image/png": "[encoded data removed]",
      "text/plain": [
       "<Figure size 1000x800 with 6 Axes>"
      ]
     },
     "metadata": {},
     "output_type": "display_data"
    },
    {
     "data": {
      "image/png": "[encoded data removed]",
      "text/plain": [
       "<Figure size 1000x800 with 2 Axes>"
      ]
     },
     "metadata": {},
     "output_type": "display_data"
    }
   ],
   "source": [
    "# Use the correct column names for numeric variables\n",
    "df[numeric_cols].hist(figsize=(10,8))\n",
    "plt.tight_layout()\n",
    "plt.show()\n",
    "\n",
    "# Correlation heatmap\n",
    "plt.figure(figsize=(10,8))\n",
    "sns.heatmap(df[numeric_cols].corr(), annot=True, cmap='coolwarm')\n",
    "plt.title('Correlation Heatmap of Agricultural Variables')\n",
    "plt.show()"
   ]
  },
  {
   "cell_type": "code",
   "execution_count": null,
   "id": "fc8fe8af",
   "metadata": {},
   "outputs": [],
   "source": [
    "# /"
   ]
  },
  {
   "cell_type": "code",
   "execution_count": 36,
   "id": "603264c7",
   "metadata": {},
   "outputs": [],
   "source": [
    "# Convert 'Temperature(C)' to numeric (handling errors if any)\n",
    "df['Temperature(C)'] = pd.to_numeric(df['Temperature(C)'], errors='coerce')\n",
    "\n",
    "# Drop rows with missing 'Temperature(C)' or 'Crop_Type'\n",
    "df.dropna(subset=['Temperature(C)', 'Crop_Type'], inplace=True)"
   ]
  },
  {
   "cell_type": "code",
   "execution_count": 37,
   "id": "7b005058",
   "metadata": {},
   "outputs": [],
   "source": [
    "avg_temp_by_crop = df.groupby('Crop_Type')['Temperature(C)'].mean().reset_index()"
   ]
  },
  {
   "cell_type": "code",
   "execution_count": 38,
   "id": "6aa4b196",
   "metadata": {},
   "outputs": [
    {
     "name": "stdout",
     "output_type": "stream",
     "text": [
      "Crop with highest average temperature: Maize (27.01°C)\n"
     ]
    }
   ],
   "source": [
    "# Sort by temperature in descending order\n",
    "avg_temp_by_crop_sorted = avg_temp_by_crop.sort_values('Temperature(C)', ascending=False)\n",
    "\n",
    "# Get the crop with the highest average temperature\n",
    "highest_temp_crop = avg_temp_by_crop_sorted.iloc[0]\n",
    "print(f\"Crop with highest average temperature: {highest_temp_crop['Crop_Type']} ({highest_temp_crop['Temperature(C)']:.2f}°C)\")"
   ]
  },
  {
   "cell_type": "code",
   "execution_count": 39,
   "id": "ad6d2246",
   "metadata": {},
   "outputs": [
    {
     "data": {
      "image/png": "[encoded data removed]",
      "text/plain": [
       "<Figure size 1000x600 with 1 Axes>"
      ]
     },
     "metadata": {},
     "output_type": "display_data"
    }
   ],
   "source": [
    "import matplotlib.pyplot as plt\n",
    "\n",
    "plt.figure(figsize=(10, 6))\n",
    "plt.bar(avg_temp_by_crop['Crop_Type'], avg_temp_by_crop['Temperature(C)'], color='skyblue')\n",
    "plt.xlabel('Crop Type')\n",
    "plt.ylabel('Average Temperature (°C)')\n",
    "plt.title('Average Temperature by Crop Type')\n",
    "plt.xticks(rotation=45)\n",
    "plt.show()"
   ]
  },
  {
   "cell_type": "code",
   "execution_count": 32,
   "id": "59624ce9",
   "metadata": {},
   "outputs": [
    {
     "name": "stdout",
     "output_type": "stream",
     "text": [
      "Factors most influencing fertilizer recommendations:\n",
      "Fertilizer_Recommended(kg/ha)    1.000000\n",
      "Soil_pH                          0.082525\n",
      "Humidity(%)                      0.015693\n",
      "Soil_Moisture(%)                -0.001989\n",
      "Temperature(C)                  -0.009847\n",
      "Name: Fertilizer_Recommended(kg/ha), dtype: float64\n",
      "\n",
      "Crop with highest average soil moisture: Wheat\n",
      "\n",
      "Suggested irrigation adjustments for crops >30°C:\n",
      "- Lettuce: Increase irrigation frequency by 20% and monitor soil moisture daily\n",
      "- Maize: Increase irrigation frequency by 20% and monitor soil moisture daily\n",
      "- Wheat: Increase irrigation frequency by 20% and monitor soil moisture daily\n",
      "- Tomatoes: Increase irrigation frequency by 20% and monitor soil moisture daily\n",
      "- Beans: Increase irrigation frequency by 20% and monitor soil moisture daily\n"
     ]
    }
   ],
   "source": [
    "# Variables influencing fertilizer recommendations\n",
    "correlations = df[numeric_cols].corr()['Fertilizer_Recommended(kg/ha)'].sort_values(ascending=False)\n",
    "print(\"Factors most influencing fertilizer recommendations:\")\n",
    "print(correlations)\n",
    "\n",
    "# Crop with highest average soil moisture\n",
    "if 'Crop_Type' in df.columns:\n",
    "    crop_moisture = df.groupby('Crop_Type')['Soil_Moisture(%)'].mean().sort_values(ascending=False)\n",
    "    highest_moisture_crop = crop_moisture.idxmax()\n",
    "    print(f\"\\nCrop with highest average soil moisture: {highest_moisture_crop}\")\n",
    "\n",
    "# Irrigation adjustments for high-temperature crops\n",
    "high_temp_crops = df[df['Temperature(C)'] > 30]\n",
    "if not high_temp_crops.empty and 'Crop_Type' in df.columns:\n",
    "    print(\"\\nSuggested irrigation adjustments for crops >30°C:\")\n",
    "    # Suggest increased irrigation for these crops\n",
    "    for crop in high_temp_crops['Crop_Type'].unique():\n",
    "        print(f\"- {crop}: Increase irrigation frequency by 20% and monitor soil moisture daily\")"
   ]
  },
  {
   "cell_type": "code",
   "execution_count": 33,
   "id": "a466b7e7",
   "metadata": {},
   "outputs": [
    {
     "name": "stdout",
     "output_type": "stream",
     "text": [
      "Data loaded successfully | Initial shape: (913, 10)\n",
      " Removed 111 duplicates | New shape: (802, 10)\n",
      "Converted numeric columns: ['Soil_Moisture(%)', 'Soil_pH', 'Temperature(C)', 'Humidity(%)', 'Fertilizer_Recommended(kg/ha)']\n",
      "\n",
      " Missing values before cleaning:\n",
      "Sensor_ID                        0\n",
      "Date                             4\n",
      "Soil_Moisture(%)                 5\n",
      "Soil_pH                          5\n",
      "Temperature(C)                   5\n",
      "Humidity(%)                      5\n",
      "Crop_Type                        4\n",
      "Fertilizer_Recommended(kg/ha)    5\n",
      "Irrigation_Recommended(mm)       5\n",
      "Drone_Image_ID                   0\n",
      "dtype: int64\n",
      "\n",
      " Missing values after cleaning:\n",
      "Sensor_ID                        0\n",
      "Date                             4\n",
      "Soil_Moisture(%)                 0\n",
      "Soil_pH                          0\n",
      "Temperature(C)                   0\n",
      "Humidity(%)                      0\n",
      "Crop_Type                        0\n",
      "Fertilizer_Recommended(kg/ha)    5\n",
      "Irrigation_Recommended(mm)       5\n",
      "Drone_Image_ID                   0\n",
      "dtype: int64\n",
      "\n",
      " Final cleaned data:\n",
      "cleaned\n"
     ]
    }
   ],
   "source": [
    "def clean_agriculture_data(filepath):\n",
    "    # Load data\n",
    "    df = pd.read_csv(filepath)\n",
    "    print(f\"Data loaded successfully | Initial shape: {df.shape}\")\n",
    "    \n",
    "    # Initial cleaning\n",
    "    initial_rows = len(df)\n",
    "    df = df.drop_duplicates()\n",
    "    print(f\" Removed {initial_rows - len(df)} duplicates | New shape: {df.shape}\")\n",
    "    \n",
    "    # Replace errors and convert types\n",
    "    df = df.replace('error', np.nan)\n",
    "    numeric_cols = ['Soil_Moisture(%)', 'Soil_pH', 'Temperature(C)', \n",
    "                   'Humidity(%)', 'Fertilizer_Recommended(kg/ha)']\n",
    "    df[numeric_cols] = df[numeric_cols].apply(pd.to_numeric, errors='coerce')\n",
    "    print(\"Converted numeric columns:\", numeric_cols)\n",
    "    \n",
    "    # Handle missing values\n",
    "    print(\"\\n Missing values before cleaning:\")\n",
    "    print(df.isna().sum())\n",
    "    \n",
    "    df['Soil_Moisture(%)'] = df['Soil_Moisture(%)'].ffill()\n",
    "    df['Soil_pH'] = df['Soil_pH'].ffill()\n",
    "    \n",
    "    df = df.fillna({\n",
    "        'Temperature(C)': df['Temperature(C)'].mean(),\n",
    "        'Humidity(%)': df['Humidity(%)'].mean(),\n",
    "        'Crop_Type': df['Crop_Type'].mode()[0] if 'Crop_Type' in df else None\n",
    "    })\n",
    "    \n",
    "    print(\"\\n Missing values after cleaning:\")\n",
    "    print(df.isna().sum())\n",
    "    \n",
    "    return df\n",
    "\n",
    "# Usage\n",
    "cleaned_df = clean_agriculture_data('climate_action_data.csv')\n",
    "print(\"\\n Final cleaned data:\")\n",
    "print(\"cleaned\")"
   ]
  },
  {
   "cell_type": "code",
   "execution_count": 35,
   "id": "acd61c10",
   "metadata": {},
   "outputs": [
    {
     "name": "stdout",
     "output_type": "stream",
     "text": [
      "exported successfully\n"
     ]
    }
   ],
   "source": [
    "# Export cleaned data\n",
    "df.to_csv('cleaned_precision_agriculture_data.csv', index=False)\n",
    "\n",
    "# Document insights\n",
    "insights = \"\"\"\n",
    "Key Insights:\n",
    "1. Fertilizer recommendations are most strongly influenced by: {top_3_factors}\n",
    "2. {highest_moisture_crop} crops require the most soil moisture on average\n",
    "3. For crops experiencing temperatures above 30°C, recommended actions:\n",
    "   - Increase irrigation frequency\n",
    "   - Monitor soil moisture more frequently\n",
    "   - Consider shade solutions for heat-sensitive crops\n",
    "\n",
    "Recommendations:\n",
    "- Implement dynamic fertilizer adjustments based on {primary_factor}\n",
    "- Group irrigation schedules by crop type and temperature ranges\n",
    "- Install additional sensors in {highest_moisture_crop} fields for better monitoring\n",
    "\"\"\".format(\n",
    "    top_3_factors=', '.join(correlations.index[:3]),\n",
    "    highest_moisture_crop=highest_moisture_crop,\n",
    "    primary_factor=correlations.index[0]\n",
    ")\n",
    "\n",
    "with open('agriculture_analysis_insights.txt', 'w') as f:\n",
    "    f.write(insights)\n",
    "    \n",
    "    print(\"exported successfully\")"
   ]
  }
 ],
 "metadata": {
  "kernelspec": {
   "display_name": "myenv",
   "language": "python",
   "name": "python3"
  },
  "language_info": {
   "codemirror_mode": {
    "name": "ipython",
    "version": 3
   },
   "file_extension": ".py",
   "mimetype": "text/x-python",
   "name": "python",
   "nbconvert_exporter": "python",
   "pygments_lexer": "ipython3",
   "version": "3.11.2"
  }
 },
 "nbformat": 4,
 "nbformat_minor": 5
}
